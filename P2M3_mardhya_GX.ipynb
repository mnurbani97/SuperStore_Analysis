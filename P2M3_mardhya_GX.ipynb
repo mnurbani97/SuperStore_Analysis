{
 "cells": [
  {
   "cell_type": "markdown",
   "metadata": {},
   "source": [
    "\n",
    "    =================================================\n",
    "    \n",
    "   \n",
    "\n",
    "    Nama  : Mardhya Malik Nurbani\n",
    "\n",
    "\n",
    "    Program ini dibuat untuk membangun konteks data (data context) menggunakan Great Expectations, sebuah perangkat lunak open-source yang \n",
    "    digunakan untuk mengelola, memantau, dan menguji kualitas data.\n",
    "    \n",
    "    ================================================="
   ]
  },
  {
   "cell_type": "markdown",
   "metadata": {},
   "source": [
    "## Data Context"
   ]
  },
  {
   "cell_type": "code",
   "execution_count": 7,
   "metadata": {},
   "outputs": [],
   "source": [
    "# Create a data context\n",
    "\n",
    "from great_expectations.data_context import FileDataContext\n",
    "import pandas as pd\n",
    "from great_expectations.dataset import PandasDataset\n",
    "import os\n",
    "\n",
    "\n",
    "context = FileDataContext.create(project_root_dir='C:\\\\Users\\\\Mardhya\\\\Hacktiv8\\\\Milestone 3\\\\p2-ftds026-rmt-m3-mnurbani97\\\\MachineLearning\\\\dags')"
   ]
  },
  {
   "cell_type": "markdown",
   "metadata": {},
   "source": [
    "**Insight** : membuat objek konteks data dari proyek Great Expectations yang terletak di `'C:\\\\Users\\\\Mardhya\\\\Hacktiv8\\\\Milestone 3\\\\p2-ftds026-rmt-m3-mnurbani97\\\\MachineLearning\\\\dags'`\n",
    " yang digunakan untuk melakukan berbagai operasi validasi dan pemantauan data"
   ]
  },
  {
   "cell_type": "markdown",
   "metadata": {},
   "source": [
    "## Connect to A `Datasource`"
   ]
  },
  {
   "cell_type": "code",
   "execution_count": 8,
   "metadata": {},
   "outputs": [],
   "source": [
    "\n",
    "# Local CSV file path\n",
    "local_csv_path = 'C:\\\\Users\\\\Mardhya\\\\Hacktiv8\\\\Milestone 3\\\\p2-ftds026-rmt-m3-mnurbani97\\\\MachineLearning\\\\dags\\\\P2M3_mardhya_data_clean.csv'\n",
    "\n",
    "# Extracting the file name without extension to use as asset_name\n",
    "asset_name = os.path.splitext(os.path.basename(local_csv_path))[0]\n",
    "\n",
    "# Give a unique name to the datasource\n",
    "datasource_name = 'csv-data-superstore'\n",
    "\n",
    "# Adding the datasource\n",
    "datasource = context.sources.add_pandas(datasource_name)\n",
    "\n",
    "# Adding the CSV asset to the datasource\n",
    "asset = datasource.add_csv_asset(asset_name, filepath_or_buffer=local_csv_path)\n",
    "\n",
    "# Building batch request\n",
    "batch_request = asset.build_batch_request()\n"
   ]
  },
  {
   "cell_type": "markdown",
   "metadata": {},
   "source": [
    "**Insight** : file csv yang berada di `C:\\\\Users\\\\Mardhya\\\\Hacktiv8\\\\Milestone 3\\\\p2-ftds026-rmt-m3-mnurbani97\\\\MachineLearning\\\\dags\\\\` bernama `P2M3_mardhya_data_clean.csv` akan di load untuk dimonitoring . lalu akan di ambil file csv tanpa ekstensinya dengan cara `os.path.basename` dan dipisahkan ekstensi file menggunakan `os.path.splitext`, kemudian disimpan di dalam variable `asset_name`. lalu data CSV yang akan ditambahkan ke konteks Great Expectations dengan nama `csv-data-superstore` dan disimpan pada variable `datasource_name`. `Asset` ini adalah representasi dari file CSV yang akan dimonitor. lalu pada `batch_request` digunakan untuk memeriksa data dalam file csv untuk melakukan pemeriksaaan dan validasi pada data."
   ]
  },
  {
   "cell_type": "markdown",
   "metadata": {},
   "source": [
    "## Create an Expectation Suite"
   ]
  },
  {
   "cell_type": "code",
   "execution_count": 80,
   "metadata": {},
   "outputs": [
    {
     "data": {
      "application/vnd.jupyter.widget-view+json": {
       "model_id": "971f00bcfede424dad5d0e2905ba83ed",
       "version_major": 2,
       "version_minor": 0
      },
      "text/plain": [
       "Calculating Metrics:   0%|          | 0/1 [00:00<?, ?it/s]"
      ]
     },
     "metadata": {},
     "output_type": "display_data"
    },
    {
     "data": {
      "text/html": [
       "<div>\n",
       "<style scoped>\n",
       "    .dataframe tbody tr th:only-of-type {\n",
       "        vertical-align: middle;\n",
       "    }\n",
       "\n",
       "    .dataframe tbody tr th {\n",
       "        vertical-align: top;\n",
       "    }\n",
       "\n",
       "    .dataframe thead th {\n",
       "        text-align: right;\n",
       "    }\n",
       "</style>\n",
       "<table border=\"1\" class=\"dataframe\">\n",
       "  <thead>\n",
       "    <tr style=\"text-align: right;\">\n",
       "      <th></th>\n",
       "      <th>ship_mode</th>\n",
       "      <th>segment</th>\n",
       "      <th>country</th>\n",
       "      <th>city</th>\n",
       "      <th>state</th>\n",
       "      <th>postal_code</th>\n",
       "      <th>region</th>\n",
       "      <th>category</th>\n",
       "      <th>sub_category</th>\n",
       "      <th>sales</th>\n",
       "      <th>quantity</th>\n",
       "      <th>discount</th>\n",
       "      <th>profit</th>\n",
       "    </tr>\n",
       "  </thead>\n",
       "  <tbody>\n",
       "    <tr>\n",
       "      <th>0</th>\n",
       "      <td>Second Class</td>\n",
       "      <td>Consumer</td>\n",
       "      <td>United States</td>\n",
       "      <td>Henderson</td>\n",
       "      <td>Kentucky</td>\n",
       "      <td>42420</td>\n",
       "      <td>South</td>\n",
       "      <td>Furniture</td>\n",
       "      <td>Bookcases</td>\n",
       "      <td>261.9600</td>\n",
       "      <td>2</td>\n",
       "      <td>0.00</td>\n",
       "      <td>41.9136</td>\n",
       "    </tr>\n",
       "    <tr>\n",
       "      <th>1</th>\n",
       "      <td>Second Class</td>\n",
       "      <td>Consumer</td>\n",
       "      <td>United States</td>\n",
       "      <td>Henderson</td>\n",
       "      <td>Kentucky</td>\n",
       "      <td>42420</td>\n",
       "      <td>South</td>\n",
       "      <td>Furniture</td>\n",
       "      <td>Chairs</td>\n",
       "      <td>731.9400</td>\n",
       "      <td>3</td>\n",
       "      <td>0.00</td>\n",
       "      <td>219.5820</td>\n",
       "    </tr>\n",
       "    <tr>\n",
       "      <th>2</th>\n",
       "      <td>Second Class</td>\n",
       "      <td>Corporate</td>\n",
       "      <td>United States</td>\n",
       "      <td>Los Angeles</td>\n",
       "      <td>California</td>\n",
       "      <td>90036</td>\n",
       "      <td>West</td>\n",
       "      <td>Office Supplies</td>\n",
       "      <td>Labels</td>\n",
       "      <td>14.6200</td>\n",
       "      <td>2</td>\n",
       "      <td>0.00</td>\n",
       "      <td>6.8714</td>\n",
       "    </tr>\n",
       "    <tr>\n",
       "      <th>3</th>\n",
       "      <td>Standard Class</td>\n",
       "      <td>Consumer</td>\n",
       "      <td>United States</td>\n",
       "      <td>Fort Lauderdale</td>\n",
       "      <td>Florida</td>\n",
       "      <td>33311</td>\n",
       "      <td>South</td>\n",
       "      <td>Furniture</td>\n",
       "      <td>Tables</td>\n",
       "      <td>957.5775</td>\n",
       "      <td>5</td>\n",
       "      <td>0.45</td>\n",
       "      <td>-383.0310</td>\n",
       "    </tr>\n",
       "    <tr>\n",
       "      <th>4</th>\n",
       "      <td>Standard Class</td>\n",
       "      <td>Consumer</td>\n",
       "      <td>United States</td>\n",
       "      <td>Fort Lauderdale</td>\n",
       "      <td>Florida</td>\n",
       "      <td>33311</td>\n",
       "      <td>South</td>\n",
       "      <td>Office Supplies</td>\n",
       "      <td>Storage</td>\n",
       "      <td>22.3680</td>\n",
       "      <td>2</td>\n",
       "      <td>0.20</td>\n",
       "      <td>2.5164</td>\n",
       "    </tr>\n",
       "  </tbody>\n",
       "</table>\n",
       "</div>"
      ],
      "text/plain": [
       "        ship_mode    segment        country             city       state  \\\n",
       "0    Second Class   Consumer  United States        Henderson    Kentucky   \n",
       "1    Second Class   Consumer  United States        Henderson    Kentucky   \n",
       "2    Second Class  Corporate  United States      Los Angeles  California   \n",
       "3  Standard Class   Consumer  United States  Fort Lauderdale     Florida   \n",
       "4  Standard Class   Consumer  United States  Fort Lauderdale     Florida   \n",
       "\n",
       "   postal_code region         category sub_category     sales  quantity  \\\n",
       "0        42420  South        Furniture    Bookcases  261.9600         2   \n",
       "1        42420  South        Furniture       Chairs  731.9400         3   \n",
       "2        90036   West  Office Supplies       Labels   14.6200         2   \n",
       "3        33311  South        Furniture       Tables  957.5775         5   \n",
       "4        33311  South  Office Supplies      Storage   22.3680         2   \n",
       "\n",
       "   discount    profit  \n",
       "0      0.00   41.9136  \n",
       "1      0.00  219.5820  \n",
       "2      0.00    6.8714  \n",
       "3      0.45 -383.0310  \n",
       "4      0.20    2.5164  "
      ]
     },
     "execution_count": 80,
     "metadata": {},
     "output_type": "execute_result"
    }
   ],
   "source": [
    "# Creat an expectation suite\n",
    "expectation_suite_name = 'expectation-superstore-dataset'\n",
    "context.add_or_update_expectation_suite(expectation_suite_name)\n",
    "\n",
    "# Create a validator using above expectation suite\n",
    "validator = context.get_validator(\n",
    "    batch_request = batch_request,\n",
    "    expectation_suite_name = expectation_suite_name\n",
    ")\n",
    "df = pd.read_csv(local_csv_path)\n",
    "df['no_index'] = df.index\n",
    "# Check the validator\n",
    "validator.head()\n",
    "\n"
   ]
  },
  {
   "cell_type": "markdown",
   "metadata": {},
   "source": [
    "**Insight** : membuat, mengatur, dan memeriksa validator menggunakan Great Expectations, dengan cara menentukan nama untuk suite ekspektasi (expectation suite) yang akan dibuat, lalu menambahkan atau memperbarui suite ekspektasi dengan nama yang telah ditentukan. selanjutnya pada `validator` membuat objek validator dengan menggunakan permintaan batch (batch request) yang telah dibangun sebelumnya dan suite ekspektasi yang telah dibuat. setelah itu fungsi akan dipanggil pada `validator.head()` untuk memeriksa beberapa baris pertama dari data yang telah dimuat ke dalam validator\n",
    "dengan melakukan langkah semua ini dapat memastikan bahwa data memenuhi aturan atau ekspektasi tertentu sebelum dilanjutkan ke tahap analisis atau penggunaan selanjutnya. "
   ]
  },
  {
   "cell_type": "markdown",
   "metadata": {},
   "source": [
    "## Expectations"
   ]
  },
  {
   "cell_type": "markdown",
   "metadata": {},
   "source": [
    "#### To be unique"
   ]
  },
  {
   "cell_type": "code",
   "execution_count": 85,
   "metadata": {},
   "outputs": [
    {
     "data": {
      "text/plain": [
       "{\n",
       "  \"success\": true,\n",
       "  \"results\": [\n",
       "    {\n",
       "      \"success\": true,\n",
       "      \"expectation_config\": {\n",
       "        \"expectation_type\": \"expect_column_values_to_be_unique\",\n",
       "        \"kwargs\": {\n",
       "          \"column\": \"no_index\",\n",
       "          \"result_format\": \"BASIC\"\n",
       "        },\n",
       "        \"meta\": {}\n",
       "      },\n",
       "      \"result\": {\n",
       "        \"element_count\": 9977,\n",
       "        \"missing_count\": 0,\n",
       "        \"missing_percent\": 0.0,\n",
       "        \"unexpected_count\": 0,\n",
       "        \"unexpected_percent\": 0.0,\n",
       "        \"unexpected_percent_total\": 0.0,\n",
       "        \"unexpected_percent_nonmissing\": 0.0,\n",
       "        \"partial_unexpected_list\": []\n",
       "      },\n",
       "      \"meta\": {},\n",
       "      \"exception_info\": {\n",
       "        \"raised_exception\": false,\n",
       "        \"exception_message\": null,\n",
       "        \"exception_traceback\": null\n",
       "      }\n",
       "    }\n",
       "  ],\n",
       "  \"evaluation_parameters\": {},\n",
       "  \"statistics\": {\n",
       "    \"evaluated_expectations\": 1,\n",
       "    \"successful_expectations\": 1,\n",
       "    \"unsuccessful_expectations\": 0,\n",
       "    \"success_percent\": 100.0\n",
       "  },\n",
       "  \"meta\": {\n",
       "    \"great_expectations_version\": \"0.18.8\",\n",
       "    \"expectation_suite_name\": \"default\",\n",
       "    \"run_id\": {\n",
       "      \"run_name\": null,\n",
       "      \"run_time\": \"2024-01-29T21:26:42.595827+07:00\"\n",
       "    },\n",
       "    \"batch_kwargs\": {\n",
       "      \"ge_batch_id\": \"6c538e33-beb2-11ee-afd0-88d7f69bd979\"\n",
       "    },\n",
       "    \"batch_markers\": {},\n",
       "    \"batch_parameters\": {},\n",
       "    \"validation_time\": \"20240129T142642.595827Z\",\n",
       "    \"expectation_suite_meta\": {\n",
       "      \"great_expectations_version\": \"0.18.8\"\n",
       "    }\n",
       "  }\n",
       "}"
      ]
     },
     "execution_count": 85,
     "metadata": {},
     "output_type": "execute_result"
    }
   ],
   "source": [
    "batch_data = PandasDataset(df)\n",
    "\n",
    "# Membuat expectation bahwa nilai dalam kolom 'no_index'\n",
    "batch_data.expect_column_values_to_be_unique('no_index') #membuat column baru untuk melakukan unique values\n",
    "validation_results = batch_data.validate()\n",
    "\n",
    "validation_results"
   ]
  },
  {
   "cell_type": "markdown",
   "metadata": {},
   "source": [
    "**Insight** : Melakukan expect_column_values_to_be_unique pada kolom yang barusaja ditambahkan `no_index`. berikut hasilnya :\n",
    "-  Hasilnya menunjukkan bahwa semua nilai element_count\": 9977 dalam kolom tersebut unik, Jumlah nilai yang hilang dalam kolom 0 dan umlah nilai yang tidak terduga (non-unik) yang ditemukan dalam kolom 0. validasi berhasil dan kolom tersebut memenuhi harapan bahwa nilainya harus unik `\"success\": true,`"
   ]
  },
  {
   "cell_type": "markdown",
   "metadata": {},
   "source": [
    "#### To be set"
   ]
  },
  {
   "cell_type": "code",
   "execution_count": 86,
   "metadata": {},
   "outputs": [
    {
     "data": {
      "application/vnd.jupyter.widget-view+json": {
       "model_id": "2bf4c3524b1f4369804db95f8afb91c0",
       "version_major": 2,
       "version_minor": 0
      },
      "text/plain": [
       "Calculating Metrics:   0%|          | 0/8 [00:00<?, ?it/s]"
      ]
     },
     "metadata": {},
     "output_type": "display_data"
    },
    {
     "data": {
      "text/plain": [
       "{\n",
       "  \"success\": true,\n",
       "  \"result\": {\n",
       "    \"element_count\": 9977,\n",
       "    \"unexpected_count\": 0,\n",
       "    \"unexpected_percent\": 0.0,\n",
       "    \"partial_unexpected_list\": [],\n",
       "    \"missing_count\": 0,\n",
       "    \"missing_percent\": 0.0,\n",
       "    \"unexpected_percent_total\": 0.0,\n",
       "    \"unexpected_percent_nonmissing\": 0.0\n",
       "  },\n",
       "  \"meta\": {},\n",
       "  \"exception_info\": {\n",
       "    \"raised_exception\": false,\n",
       "    \"exception_traceback\": null,\n",
       "    \"exception_message\": null\n",
       "  }\n",
       "}"
      ]
     },
     "execution_count": 86,
     "metadata": {},
     "output_type": "execute_result"
    }
   ],
   "source": [
    "unique_subcategories = ['Bookcases', 'Chairs', 'Labels', 'Tables', 'Storage', 'Furnishings', 'Art', 'Phones', 'Binders', 'Appliances', 'Paper', 'Accessories', 'Envelopes', 'Fasteners', 'Supplies', 'Machines', 'Copiers']\n",
    "\n",
    "validator.expect_column_values_to_be_in_set('sub_category', unique_subcategories)"
   ]
  },
  {
   "cell_type": "markdown",
   "metadata": {},
   "source": [
    "**Insight** : Melakukan `validator.expect_column_values_to_be_in_set` pada column  `sub_category`. yang hasilnya :\n",
    "\n",
    "- Hasil pemeriksaan pada column `sub_category`, bahwa setiap nilai dalam kolom `'sub_category'` sebenarnya termasuk dalam daftar nilai yang telah ditentukan sebelumnya. Hasilnya menunjukkan bahwa semua nilai dalam kolom tersebut `(\"element_count\": 9977)` memang ada dalam daftar yang diharapkan, dan tidak ada nilai yang tidak seharusnya atau bahkan yang hilang sama sekali. Dengan kata lain, data dalam kolom `'sub_category'` memenuhi apa yang diharapkan dari awal dengan status `\"success\": true`,\n"
   ]
  },
  {
   "cell_type": "markdown",
   "metadata": {},
   "source": [
    "#### To be between min_value and max_value"
   ]
  },
  {
   "cell_type": "code",
   "execution_count": 87,
   "metadata": {},
   "outputs": [
    {
     "data": {
      "application/vnd.jupyter.widget-view+json": {
       "model_id": "6a9e6be3a1b1456a982b070ec8a6bff4",
       "version_major": 2,
       "version_minor": 0
      },
      "text/plain": [
       "Calculating Metrics:   0%|          | 0/4 [00:00<?, ?it/s]"
      ]
     },
     "metadata": {},
     "output_type": "display_data"
    },
    {
     "data": {
      "text/plain": [
       "{\n",
       "  \"success\": true,\n",
       "  \"result\": {\n",
       "    \"observed_value\": 0.1562784404129498\n",
       "  },\n",
       "  \"meta\": {},\n",
       "  \"exception_info\": {\n",
       "    \"raised_exception\": false,\n",
       "    \"exception_traceback\": null,\n",
       "    \"exception_message\": null\n",
       "  }\n",
       "}"
      ]
     },
     "execution_count": 87,
     "metadata": {},
     "output_type": "execute_result"
    }
   ],
   "source": [
    "validator.expect_column_mean_to_be_between('discount', 0, 0.5)"
   ]
  },
  {
   "cell_type": "markdown",
   "metadata": {},
   "source": [
    "**Insight** : Melakukan validator.expect_column_mean_to_be_between pada column `discount` dengan range 0 - 0.5. Berikut hasilnya:\n",
    "-  Hasil pemeriksaan menunjukkan bahwa rata-rata kolom `'discount'` adalah 0.156, yang artinya nilai rata-rata yang berada pada column `discount` berada pada range `0 - 0.5`, dan pemeriksaan berlangsung dengan sukses. `\"success\": true,`"
   ]
  },
  {
   "cell_type": "markdown",
   "metadata": {},
   "source": [
    "#### To be List"
   ]
  },
  {
   "cell_type": "code",
   "execution_count": 88,
   "metadata": {},
   "outputs": [
    {
     "data": {
      "application/vnd.jupyter.widget-view+json": {
       "model_id": "1ad3f41b79064d898e85386cf029d038",
       "version_major": 2,
       "version_minor": 0
      },
      "text/plain": [
       "Calculating Metrics:   0%|          | 0/1 [00:00<?, ?it/s]"
      ]
     },
     "metadata": {},
     "output_type": "display_data"
    },
    {
     "data": {
      "text/plain": [
       "{\n",
       "  \"success\": true,\n",
       "  \"result\": {\n",
       "    \"observed_value\": \"float64\"\n",
       "  },\n",
       "  \"meta\": {},\n",
       "  \"exception_info\": {\n",
       "    \"raised_exception\": false,\n",
       "    \"exception_traceback\": null,\n",
       "    \"exception_message\": null\n",
       "  }\n",
       "}"
      ]
     },
     "execution_count": 88,
     "metadata": {},
     "output_type": "execute_result"
    }
   ],
   "source": [
    "validator.expect_column_values_to_be_in_type_list('profit',['integer', 'float'])"
   ]
  },
  {
   "cell_type": "markdown",
   "metadata": {},
   "source": [
    "**Insight** : melakukan validator.expect_column_values_to_be_in_type_list pada column `profit` dengan type data yang diharapkan yaitu `'integer', 'float'`, berikut hasilnya :\n",
    "- Hasil pemeriksaan menunjukkan bahwa semua nilai dalam kolom 'profit' sesuai dengan tipe data yang diharapkan, yaitu integer atau float `\"success\": true,`. nilai pada column tersebut merupakan tipe data float, pemeriksaan berlangsung dengan sukses."
   ]
  },
  {
   "cell_type": "markdown",
   "metadata": {},
   "source": [
    "#### most_common_value_to_be_in_set"
   ]
  },
  {
   "cell_type": "code",
   "execution_count": 89,
   "metadata": {},
   "outputs": [
    {
     "data": {
      "application/vnd.jupyter.widget-view+json": {
       "model_id": "19ed41bea02e43249571ef6a629f8300",
       "version_major": 2,
       "version_minor": 0
      },
      "text/plain": [
       "Calculating Metrics:   0%|          | 0/4 [00:00<?, ?it/s]"
      ]
     },
     "metadata": {},
     "output_type": "display_data"
    },
    {
     "data": {
      "text/plain": [
       "{\n",
       "  \"success\": true,\n",
       "  \"result\": {\n",
       "    \"observed_value\": [\n",
       "      \"Standard Class\"\n",
       "    ]\n",
       "  },\n",
       "  \"meta\": {},\n",
       "  \"exception_info\": {\n",
       "    \"raised_exception\": false,\n",
       "    \"exception_traceback\": null,\n",
       "    \"exception_message\": null\n",
       "  }\n",
       "}"
      ]
     },
     "execution_count": 89,
     "metadata": {},
     "output_type": "execute_result"
    }
   ],
   "source": [
    "value_set_for_ship_mode = ['Standard Class', 'Second Class', 'First Class', 'Same Day']\n",
    "validator.expect_column_most_common_value_to_be_in_set('ship_mode', value_set_for_ship_mode)"
   ]
  },
  {
   "cell_type": "markdown",
   "metadata": {},
   "source": [
    "\n",
    "**Insight** : Melakukan validator.expect_column_most_common_value_to_be_in_set pada column `ship_mode`, dengan mencari mayoritas pada column tersebut. berikut hasilnya :\n",
    "\n",
    "- Validasi sukses dan menunjukkan bahwa bahwa nilai yang paling umum (most common value) dalam kolom `'ship_mode'` adalah `\"Standard Class\"`, yang memang termasuk dalam himpunan nilai yang diharapkan: 'Standard Class', 'Second Class', 'First Class', dan 'Same Day'. pemeriksaan berlangsung dengan sukses `\"success\": true`, "
   ]
  },
  {
   "cell_type": "markdown",
   "metadata": {},
   "source": [
    "#### to_be_of_type"
   ]
  },
  {
   "cell_type": "code",
   "execution_count": 90,
   "metadata": {},
   "outputs": [
    {
     "data": {
      "application/vnd.jupyter.widget-view+json": {
       "model_id": "202613fd113447c3bf0e1046ac35a072",
       "version_major": 2,
       "version_minor": 0
      },
      "text/plain": [
       "Calculating Metrics:   0%|          | 0/1 [00:00<?, ?it/s]"
      ]
     },
     "metadata": {},
     "output_type": "display_data"
    },
    {
     "data": {
      "text/plain": [
       "{\n",
       "  \"success\": true,\n",
       "  \"result\": {\n",
       "    \"observed_value\": \"object_\"\n",
       "  },\n",
       "  \"meta\": {},\n",
       "  \"exception_info\": {\n",
       "    \"raised_exception\": false,\n",
       "    \"exception_traceback\": null,\n",
       "    \"exception_message\": null\n",
       "  }\n",
       "}"
      ]
     },
     "execution_count": 90,
     "metadata": {},
     "output_type": "execute_result"
    }
   ],
   "source": [
    "validator.expect_column_values_to_be_of_type('sub_category', 'object')\n"
   ]
  },
  {
   "cell_type": "markdown",
   "metadata": {},
   "source": [
    "**Insight** Melakukan validator.expect_column_values_to_be_of_type pada column `sub_category`\n",
    "- Hasil pemeriksaan menunjukkan bahwa semua nilai dalam kolom `sub_category` tersebut adalah tipe data 'object'"
   ]
  },
  {
   "cell_type": "code",
   "execution_count": 91,
   "metadata": {},
   "outputs": [
    {
     "data": {
      "application/vnd.jupyter.widget-view+json": {
       "model_id": "28440d3139374a24a5580f162be126f6",
       "version_major": 2,
       "version_minor": 0
      },
      "text/plain": [
       "Calculating Metrics:   0%|          | 0/7 [00:00<?, ?it/s]"
      ]
     },
     "metadata": {},
     "output_type": "display_data"
    },
    {
     "data": {
      "text/plain": [
       "{\n",
       "  \"success\": true,\n",
       "  \"result\": {\n",
       "    \"observed_value\": 0.0017039190137315826\n",
       "  },\n",
       "  \"meta\": {},\n",
       "  \"exception_info\": {\n",
       "    \"raised_exception\": false,\n",
       "    \"exception_traceback\": null,\n",
       "    \"exception_message\": null\n",
       "  }\n",
       "}"
      ]
     },
     "execution_count": 91,
     "metadata": {},
     "output_type": "execute_result"
    }
   ],
   "source": [
    "validator.expect_column_proportion_of_unique_values_to_be_between('sub_category', min_value=0, max_value=0.1)\n"
   ]
  },
  {
   "cell_type": "markdown",
   "metadata": {},
   "source": [
    "**Insight** : Melakukan validator.expect_column_proportion_of_unique_values_to_be_between pada `sub_category`, dengan range 0 - 0.1. berikut hasilnya :\n",
    "- Hasil pemeriksaan menunjukkan bahwa proporsi nilai unik dalam kolom `sub_category` adalah sekitar `0.00170`. yang artinya hanya sebagian kecil dari nilai dalam kolom tersebut yang unik dan pemeriksaan berlangsung dengan sukses. `\"success\": true,`"
   ]
  },
  {
   "cell_type": "markdown",
   "metadata": {},
   "source": [
    "#### median_to_be_between"
   ]
  },
  {
   "cell_type": "code",
   "execution_count": 92,
   "metadata": {},
   "outputs": [
    {
     "data": {
      "application/vnd.jupyter.widget-view+json": {
       "model_id": "692fa75de7b648b8a2f10d237e403f7f",
       "version_major": 2,
       "version_minor": 0
      },
      "text/plain": [
       "Calculating Metrics:   0%|          | 0/4 [00:00<?, ?it/s]"
      ]
     },
     "metadata": {},
     "output_type": "display_data"
    },
    {
     "data": {
      "text/plain": [
       "{\n",
       "  \"success\": true,\n",
       "  \"result\": {\n",
       "    \"observed_value\": 0.2\n",
       "  },\n",
       "  \"meta\": {},\n",
       "  \"exception_info\": {\n",
       "    \"raised_exception\": false,\n",
       "    \"exception_traceback\": null,\n",
       "    \"exception_message\": null\n",
       "  }\n",
       "}"
      ]
     },
     "execution_count": 92,
     "metadata": {},
     "output_type": "execute_result"
    }
   ],
   "source": [
    "validator.expect_column_median_to_be_between('discount',min_value=0, max_value=1 )"
   ]
  },
  {
   "cell_type": "markdown",
   "metadata": {},
   "source": [
    "**Insight** : Melakukan validator.expect_column_median_to_be_between pada column `discount`. Berikut hasilnya :\n",
    "- Hasil pemeriksaan menunjukkan bahwa nilai median dalam kolom `discount` adalah `0.2`, yang berada dalam rentang yang diharapkan antara 0 dan 1.   pemeriksaan berlasung dengan sukses `\"success\": true,`"
   ]
  },
  {
   "cell_type": "markdown",
   "metadata": {},
   "source": [
    "#### row_count_to_be_between"
   ]
  },
  {
   "cell_type": "code",
   "execution_count": 93,
   "metadata": {},
   "outputs": [
    {
     "data": {
      "application/vnd.jupyter.widget-view+json": {
       "model_id": "c14707f7a6104b0b804311de33a7e085",
       "version_major": 2,
       "version_minor": 0
      },
      "text/plain": [
       "Calculating Metrics:   0%|          | 0/1 [00:00<?, ?it/s]"
      ]
     },
     "metadata": {},
     "output_type": "display_data"
    },
    {
     "data": {
      "text/plain": [
       "{\n",
       "  \"success\": true,\n",
       "  \"result\": {\n",
       "    \"observed_value\": 9977\n",
       "  },\n",
       "  \"meta\": {},\n",
       "  \"exception_info\": {\n",
       "    \"raised_exception\": false,\n",
       "    \"exception_traceback\": null,\n",
       "    \"exception_message\": null\n",
       "  }\n",
       "}"
      ]
     },
     "execution_count": 93,
     "metadata": {},
     "output_type": "execute_result"
    }
   ],
   "source": [
    "validator.expect_table_row_count_to_be_between(0, 10000)"
   ]
  },
  {
   "cell_type": "markdown",
   "metadata": {},
   "source": [
    "**Insight** : Melakukan validator.expect_table_row_count_to_be_between pada dataset `P2M3_mardhya_data_clean.csv`. Berikut hasilnya :\n",
    "- Hasil pemeriksaan menunjukkan bahwa jumlah baris dalam tabel adalah `9977`, yang berada dalam rentang yang diharapkan antara 0 dan 10000. yang artinya bahwa pemeriksaan berlangsung dengan sukses. `\"success\": true`"
   ]
  },
  {
   "cell_type": "markdown",
   "metadata": {},
   "source": [
    "#### column_values_to_be_null"
   ]
  },
  {
   "cell_type": "code",
   "execution_count": 94,
   "metadata": {},
   "outputs": [
    {
     "data": {
      "application/vnd.jupyter.widget-view+json": {
       "model_id": "af4bfb45359b4fd99bf1525ba0effa4b",
       "version_major": 2,
       "version_minor": 0
      },
      "text/plain": [
       "Calculating Metrics:   0%|          | 0/6 [00:00<?, ?it/s]"
      ]
     },
     "metadata": {},
     "output_type": "display_data"
    },
    {
     "data": {
      "text/plain": [
       "{\n",
       "  \"success\": true,\n",
       "  \"result\": {\n",
       "    \"element_count\": 9977,\n",
       "    \"unexpected_count\": 0,\n",
       "    \"unexpected_percent\": 0.0,\n",
       "    \"partial_unexpected_list\": []\n",
       "  },\n",
       "  \"meta\": {},\n",
       "  \"exception_info\": {\n",
       "    \"raised_exception\": false,\n",
       "    \"exception_traceback\": null,\n",
       "    \"exception_message\": null\n",
       "  }\n",
       "}"
      ]
     },
     "execution_count": 94,
     "metadata": {},
     "output_type": "execute_result"
    }
   ],
   "source": [
    "validator.expect_column_values_to_not_be_null('sub_category')"
   ]
  },
  {
   "cell_type": "markdown",
   "metadata": {},
   "source": [
    "**insight** : Melakukan validator.expect_column_values_to_not_be_null pada column `sub_category`. memverifikasi bahwa setiap entri dalam kolom `sub_category` memiliki nilai yang tidak null. berikut hasilnya :\n",
    "- pemeriksaan data pada kolom 'sub_category' berhasil dilakukan tanpa masalah. Tidak ada nilai yang tidak diharapkan (NULL) dalam kolom tersebut. Jumlah total baris yang diperiksa adalah 9977, dengan persentase nilai NULL sebesar 0.0%, `\"success\": true,`"
   ]
  },
  {
   "cell_type": "code",
   "execution_count": 95,
   "metadata": {},
   "outputs": [],
   "source": [
    "validator.save_expectation_suite(discard_failed_expectations=False)"
   ]
  },
  {
   "cell_type": "markdown",
   "metadata": {},
   "source": [
    "**Insight** : menyimpan suite ekspektasi yang telah didefinisikan. dengan ini bisa melacak dan memeriksa ulang aturan yang gagal untuk memahami perubahan / masalah pada data."
   ]
  },
  {
   "cell_type": "markdown",
   "metadata": {},
   "source": [
    "## Checkpoint"
   ]
  },
  {
   "cell_type": "code",
   "execution_count": 96,
   "metadata": {},
   "outputs": [],
   "source": [
    "# Create a checkpoint\n",
    "\n",
    "checkpoint_1 = context.add_or_update_checkpoint(\n",
    "    name = 'checkpoint_1',\n",
    "    validator = validator,\n",
    ")"
   ]
  },
  {
   "cell_type": "markdown",
   "metadata": {},
   "source": [
    "**Insight** : Great Expectations. Ini memungkinkan Anda untuk membuat checkpoint untuk memantau kemajuan dalam validasi dan memperbarui checkpoint yang ada jika diperlukan. Ini memungkinkan checkpoint untuk terkait langsung dengan aturan validasi yang telah Anda tetapkan sebelumnya."
   ]
  },
  {
   "cell_type": "code",
   "execution_count": 97,
   "metadata": {},
   "outputs": [
    {
     "data": {
      "application/vnd.jupyter.widget-view+json": {
       "model_id": "dc2a8ccc9c8d4e21afc365b96a3bd252",
       "version_major": 2,
       "version_minor": 0
      },
      "text/plain": [
       "Calculating Metrics:   0%|          | 0/18 [00:00<?, ?it/s]"
      ]
     },
     "metadata": {},
     "output_type": "display_data"
    }
   ],
   "source": [
    "# Run a checkpoint\n",
    "\n",
    "checkpoint_result = checkpoint_1.run()"
   ]
  },
  {
   "cell_type": "markdown",
   "metadata": {},
   "source": [
    "**Insight** : menjalankan checkpoint yang telah Anda buat sebelumnya."
   ]
  },
  {
   "cell_type": "markdown",
   "metadata": {},
   "source": [
    "## Data Docs"
   ]
  },
  {
   "cell_type": "code",
   "execution_count": 98,
   "metadata": {},
   "outputs": [
    {
     "data": {
      "text/plain": [
       "{'local_site': 'file://C:\\\\Users\\\\Mardhya\\\\Hacktiv8\\\\Milestone 3\\\\p2-ftds026-rmt-m3-mnurbani97\\\\MachineLearning\\\\dags\\\\gx\\\\uncommitted/data_docs/local_site/index.html'}"
      ]
     },
     "execution_count": 98,
     "metadata": {},
     "output_type": "execute_result"
    }
   ],
   "source": [
    "# Build data docs\n",
    "\n",
    "context.build_data_docs()"
   ]
  },
  {
   "cell_type": "markdown",
   "metadata": {},
   "source": [
    "**Insight** : membangun dokumentasi data (data docs) menggunakan konteks Great Expectations. `{'local_site': 'file://C:\\\\Users\\\\Mardhya\\\\Hacktiv8\\\\Milestone 3\\\\p2-ftds026-rmt-m3-mnurbani97\\\\MachineLearning\\\\dags\\\\gx\\\\uncommitted/data_docs/local_site/index.html'}` merupakan lokasi lokal dari dokumentasi data (data docs) yang telah dibangun oleh Great Expectations."
   ]
  }
 ],
 "metadata": {
  "kernelspec": {
   "display_name": "myenv",
   "language": "python",
   "name": "python3"
  },
  "language_info": {
   "codemirror_mode": {
    "name": "ipython",
    "version": 3
   },
   "file_extension": ".py",
   "mimetype": "text/x-python",
   "name": "python",
   "nbconvert_exporter": "python",
   "pygments_lexer": "ipython3",
   "version": "3.9.18"
  }
 },
 "nbformat": 4,
 "nbformat_minor": 2
}
